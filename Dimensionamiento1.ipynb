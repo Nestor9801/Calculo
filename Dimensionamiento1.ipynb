{
  "nbformat": 4,
  "nbformat_minor": 0,
  "metadata": {
    "colab": {
      "provenance": [],
      "authorship_tag": "ABX9TyOqK4bjIb9BAGUyCLhUeiMf",
      "include_colab_link": true
    },
    "kernelspec": {
      "name": "python3",
      "display_name": "Python 3"
    },
    "language_info": {
      "name": "python"
    }
  },
  "cells": [
    {
      "cell_type": "markdown",
      "metadata": {
        "id": "view-in-github",
        "colab_type": "text"
      },
      "source": [
        "<a href=\"https://colab.research.google.com/github/Marco950831/Calculo/blob/main/Dimensionamiento1.ipynb\" target=\"_parent\"><img src=\"https://colab.research.google.com/assets/colab-badge.svg\" alt=\"Open In Colab\"/></a>"
      ]
    },
    {
      "cell_type": "code",
      "source": [
        "consume = getConsume()\n",
        "tot_con = consume.consumo1()\n",
        "c = CalculoSolar(tot_con)\n",
        "c.getAvgProm()\n",
        "c.getenergy()"
      ],
      "metadata": {
        "colab": {
          "base_uri": "https://localhost:8080/",
          "height": 245
        },
        "id": "Vgzfp5mZ0Ip1",
        "outputId": "8e7e8796-23a6-4bdc-d0cd-9f95eba49c82"
      },
      "execution_count": null,
      "outputs": [
        {
          "output_type": "error",
          "ename": "NameError",
          "evalue": "name 'getConsume' is not defined",
          "traceback": [
            "\u001b[0;31m---------------------------------------------------------------------------\u001b[0m",
            "\u001b[0;31mNameError\u001b[0m                                 Traceback (most recent call last)",
            "\u001b[0;32m<ipython-input-11-f6dd601d3b5f>\u001b[0m in \u001b[0;36m<cell line: 1>\u001b[0;34m()\u001b[0m\n\u001b[0;32m----> 1\u001b[0;31m \u001b[0mconsume\u001b[0m \u001b[0;34m=\u001b[0m \u001b[0mgetConsume\u001b[0m\u001b[0;34m(\u001b[0m\u001b[0;34m)\u001b[0m\u001b[0;34m\u001b[0m\u001b[0;34m\u001b[0m\u001b[0m\n\u001b[0m\u001b[1;32m      2\u001b[0m \u001b[0mtot_con\u001b[0m \u001b[0;34m=\u001b[0m \u001b[0mconsume\u001b[0m\u001b[0;34m.\u001b[0m\u001b[0mconsumo1\u001b[0m\u001b[0;34m(\u001b[0m\u001b[0;34m)\u001b[0m\u001b[0;34m\u001b[0m\u001b[0;34m\u001b[0m\u001b[0m\n\u001b[1;32m      3\u001b[0m \u001b[0mc\u001b[0m \u001b[0;34m=\u001b[0m \u001b[0mCalculoSolar\u001b[0m\u001b[0;34m(\u001b[0m\u001b[0mtot_con\u001b[0m\u001b[0;34m)\u001b[0m\u001b[0;34m\u001b[0m\u001b[0;34m\u001b[0m\u001b[0m\n\u001b[1;32m      4\u001b[0m \u001b[0mc\u001b[0m\u001b[0;34m.\u001b[0m\u001b[0mgetAvgProm\u001b[0m\u001b[0;34m(\u001b[0m\u001b[0;34m)\u001b[0m\u001b[0;34m\u001b[0m\u001b[0;34m\u001b[0m\u001b[0m\n\u001b[1;32m      5\u001b[0m \u001b[0mc\u001b[0m\u001b[0;34m.\u001b[0m\u001b[0mgetenergy\u001b[0m\u001b[0;34m(\u001b[0m\u001b[0;34m)\u001b[0m\u001b[0;34m\u001b[0m\u001b[0;34m\u001b[0m\u001b[0m\n",
            "\u001b[0;31mNameError\u001b[0m: name 'getConsume' is not defined"
          ]
        }
      ]
    },
    {
      "cell_type": "code",
      "execution_count": 1,
      "metadata": {
        "id": "Z6eFzBCL2sg5"
      },
      "outputs": [],
      "source": [
        "\n",
        "\n",
        "\n",
        "class getConsume():\n",
        "\n",
        "  def __init__(self):\n",
        "    self.number_bim = 7\n",
        "\n",
        "  def consumo1(self):\n",
        "    list_ = []\n",
        "    for i in range(1, self.number_bim):\n",
        "      consumo = float(input(f\"Ingrese el consumo del bimestre {i}:\"))\n",
        "      list_.append(consumo)\n",
        "    tot_consume = sum(list_)\n",
        "    return tot_consume, list_\n",
        "\n",
        "\n",
        "class CalculoSolar():\n",
        "  def __init__(self, total_consume):\n",
        "    self.total_consume = total_consume\n",
        "\n",
        "  def getAvgProm(self):\n",
        "    self.b_number = 6\n",
        "    self.avgConsume = self.total_consume / self.b_number\n",
        "    return self.avgConsume\n",
        "\n",
        "  def getenergy(self):\n",
        "    self.c_number = 60\n",
        "    self.energy = self.avgConsume/self.c_number\n",
        "    return self.energy\n",
        "\n",
        "  def getpfv(self):\n",
        "    self.fp = 0.77\n",
        "    self.hourpi = float(input(\"Horas pico:\"))\n",
        "    self.pfv = self.energy/(self.hourpi*self.fp)\n",
        "    return self.pfv\n",
        "\n",
        "  def getmodule(self):\n",
        "    self.d_number = 1000\n",
        "    self.module = float(input(\"Potencia del modulo:\"))\n",
        "    self.n_module = self.pfv/(self.module/self.d_number)\n",
        "    return self.n_module\n",
        "\n",
        "  def getgeneration(self):\n",
        "    self.gen1 = self.n_module*self.module*self.hourpi\n",
        "    return self.gen1\n",
        "\n",
        "  def printOutputData(self):\n",
        "    print(\"Consumo:\", self.total_consume)\n",
        "    print(\"Total:\",self.avgConsume)\n",
        "    print(\"Energia requerida:\",self.energy)\n",
        "    print(\"PFV:\", self.pfv)\n",
        "    print(\"Numero de modulos:\",self.n_module)\n",
        "    print(\"Generacion diaria:\", self.gen1)\n",
        "\n",
        "\n",
        "\n",
        "\n",
        "\n",
        "\n",
        "\n",
        "\n",
        "\n",
        "\n"
      ]
    },
    {
      "cell_type": "code",
      "source": [
        "\n",
        "#### First class used\n",
        "consume = getConsume()\n",
        "tot_con, list_consume = consume.consumo1()\n",
        "\n",
        "###Second Object Used\n",
        "c = CalculoSolar(tot_con)\n",
        "c.getAvgProm()\n",
        "c.getenergy()\n",
        "c.getpfv()\n",
        "c.getmodule()\n",
        "c.getgeneration()\n",
        "\n",
        "c.printOutputData()\n",
        "\n"
      ],
      "metadata": {
        "colab": {
          "base_uri": "https://localhost:8080/"
        },
        "id": "PXJjDAoVBg9l",
        "outputId": "6332b29b-61a5-4308-e045-a3e4f6410592"
      },
      "execution_count": 2,
      "outputs": [
        {
          "output_type": "stream",
          "name": "stdout",
          "text": [
            "Ingrese el consumo del bimestre 1:450\n",
            "Ingrese el consumo del bimestre 2:787\n",
            "Ingrese el consumo del bimestre 3:9874\n",
            "Ingrese el consumo del bimestre 4:6534\n",
            "Ingrese el consumo del bimestre 5:9765\n",
            "Ingrese el consumo del bimestre 6:3390\n",
            "Horas pico:5\n",
            "Potencia del modulo:550\n",
            "Consumo: 30800.0\n",
            "Total: 5133.333333333333\n",
            "Energia requerida: 85.55555555555556\n",
            "PFV: 22.22222222222222\n",
            "Numero de modulos: 40.4040404040404\n",
            "Generacion diaria: 111111.1111111111\n"
          ]
        }
      ]
    },
    {
      "cell_type": "code",
      "source": [
        "list_consume"
      ],
      "metadata": {
        "colab": {
          "base_uri": "https://localhost:8080/"
        },
        "id": "ljhuI5fSbUaU",
        "outputId": "07e0c006-b5d5-4bc4-a79c-97309fffe039"
      },
      "execution_count": 3,
      "outputs": [
        {
          "output_type": "execute_result",
          "data": {
            "text/plain": [
              "[450.0, 787.0, 9874.0, 6534.0, 9765.0, 3390.0]"
            ]
          },
          "metadata": {},
          "execution_count": 3
        }
      ]
    },
    {
      "cell_type": "code",
      "source": [
        "65\n",
        "c.getAvgProm(c.consumo1())"
      ],
      "metadata": {
        "colab": {
          "base_uri": "https://localhost:8080/"
        },
        "id": "lsLYiL0X6cqI",
        "outputId": "cadf838c-bb01-4cf8-a297-2163178cb14d"
      },
      "execution_count": null,
      "outputs": [
        {
          "name": "stdout",
          "output_type": "stream",
          "text": [
            "Ingrese el consumo del bimestre 1:2000\n",
            "Ingrese el consumo del bimestre 2:3000\n",
            "Ingrese el consumo del bimestre 3:4000\n",
            "Ingrese el consumo del bimestre 4:5000\n",
            "Ingrese el consumo del bimestre 5:6000\n",
            "Ingrese el consumo del bimestre 6:7000\n"
          ]
        },
        {
          "output_type": "execute_result",
          "data": {
            "text/plain": [
              "4500.0"
            ]
          },
          "metadata": {},
          "execution_count": 29
        }
      ]
    },
    {
      "cell_type": "code",
      "source": [
        "from matplotlib.figure import Figure\n",
        "import matplotlib.pyplot as plt\n",
        "class PlotConsume():\n",
        "  def __init__(self, list_consume):\n",
        "    self.list_consume = list_consume\n",
        "    self.bimestre = [\"bimestre1\",\"bimestre2\",\"bimestre3\", \"bimestre4\", \"bimestre5\", \"bimestre6\"]\n",
        "\n",
        "  def plotconsume1(self):\n",
        "    fig = plt.figure(10)\n",
        "    fig.set_figwidth(8)\n",
        "    plt.plot(self.bimestre,self.list_consume)\n",
        "    plt.show()\n",
        "\n",
        "\n"
      ],
      "metadata": {
        "id": "iL6P73iW8-mA"
      },
      "execution_count": 6,
      "outputs": []
    },
    {
      "cell_type": "code",
      "source": [
        "c= PlotConsume(list_consume)\n",
        "c.plotconsume1()"
      ],
      "metadata": {
        "colab": {
          "base_uri": "https://localhost:8080/",
          "height": 430
        },
        "id": "_ps92gOhk4RV",
        "outputId": "0149fbbb-26a1-4953-b784-ad923cbc4582"
      },
      "execution_count": 7,
      "outputs": [
        {
          "output_type": "display_data",
          "data": {
            "text/plain": [
              "<Figure size 800x480 with 1 Axes>"
            ],
            "image/png": "[encoded data removed]"
          },
          "metadata": {}
        }
      ]
    },
    {
      "cell_type": "code",
      "source": [
        "from matplotlib.figure import Figure\n",
        "import matplotlib.pyplot as plt\n",
        "\n",
        "class Plotter(object):\n",
        "    def __init__(self, xval=None, yval=None, dim1=None, dim2=None):\n",
        "        self.xval = xval\n",
        "        self.yval = yval\n",
        "        self.dim1 = dim1\n",
        "        self.dim2 = dim2\n",
        "\n",
        "    def plotthing(self):\n",
        "        fig, ax = plt.subplots(figsize=(self.dim1,self.dim2))\n",
        "        ax.plot(self.xval, self.yval, 'o-')\n",
        "        return fig\n",
        "\n",
        "app = Plotter(xval=range(0,10), yval=range(0,10),  dim1=5, dim2=5)\n",
        "plot = app.plotthing()"
      ],
      "metadata": {
        "colab": {
          "base_uri": "https://localhost:8080/",
          "height": 445
        },
        "id": "IBOOgOAgfwX-",
        "outputId": "cb28be1c-d16d-4e91-df75-dd0e89c81e6c"
      },
      "execution_count": null,
      "outputs": [
        {
          "output_type": "display_data",
          "data": {
            "text/plain": [
              "<Figure size 500x500 with 1 Axes>"
            ],
            "image/png": "[encoded data removed]"
          },
          "metadata": {}
        }
      ]
    },
    {
      "cell_type": "code",
      "source": [
        "class Material():\n"
      ],
      "metadata": {
        "id": "xupeOutI2U5H"
      },
      "execution_count": null,
      "outputs": []
    }
  ]
}